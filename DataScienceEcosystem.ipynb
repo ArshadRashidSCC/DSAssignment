{
 "cells": [
  {
   "cell_type": "markdown",
   "id": "d2d2b12b-8891-4bd2-9775-1a37ff776174",
   "metadata": {},
   "source": [
    "# Data Science Tools and Ecosystem"
   ]
  },
  {
   "cell_type": "markdown",
   "id": "32b3f766-c3d8-4423-8862-2e60ff314fb0",
   "metadata": {},
   "source": [
    "# In this notebook, Data Science Tools and Ecosystem are summarized."
   ]
  },
  {
   "cell_type": "markdown",
   "id": "efba320c-0b4f-4dd5-95c9-8a6f689bb4c7",
   "metadata": {},
   "source": [
    "# Objectives:\n",
    "    1. List popular languages for Data Science\n",
    "    2. Use of IDE\n",
    "    3. Power of different data scrience tools\n",
    "    4. Code development "
   ]
  },
  {
   "cell_type": "markdown",
   "id": "70f0821a-7956-4512-b477-93216a0e2cb6",
   "metadata": {},
   "source": [
    "# Some of the popular languages that Data Scientists use are:\n",
    "1. Python\n",
    "2. R\n",
    "3. Java\n",
    "4. Scala"
   ]
  },
  {
   "cell_type": "markdown",
   "id": "c57de77e-cb1a-453e-ae2b-17684a913de7",
   "metadata": {},
   "source": [
    "# Some of the commonly used libraries used by Data Scientists include:\n",
    "    1.Pandas\n",
    "    2.Numpy\n",
    "    3.Scikit-Learn\n",
    "    4.Seaborn\n",
    "    5.plotly"
   ]
  },
  {
   "cell_type": "markdown",
   "id": "cd832371-2c48-4ac1-8982-4b950687471d",
   "metadata": {},
   "source": [
    "\n",
    "| Data Science Tools \n",
    "|:-----------------:|\n",
    "|  Jupyter Notebook | \n",
    "|  RStudio   | \n",
    "|  Apache Spark  | "
   ]
  },
  {
   "cell_type": "markdown",
   "id": "d25916c8-e6ce-4ae7-9fa1-a858972c23f3",
   "metadata": {},
   "source": [
    "### Below are a few examples of evaluating arithmetic expressions in Python."
   ]
  },
  {
   "cell_type": "code",
   "execution_count": 1,
   "id": "f55908ff-e548-4c29-9e96-75157d87b394",
   "metadata": {},
   "outputs": [
    {
     "name": "stdout",
     "output_type": "stream",
     "text": [
      "17\n"
     ]
    }
   ],
   "source": [
    "# This a simple arithmetic expression to mutiply then add integers\n",
    "A=(3*4)+5\n",
    "print(A)"
   ]
  },
  {
   "cell_type": "code",
   "execution_count": 2,
   "id": "31d1cb14-a32f-4d5b-98fb-41f933c9487c",
   "metadata": {},
   "outputs": [
    {
     "name": "stdout",
     "output_type": "stream",
     "text": [
      "3.3333333333333335\n"
     ]
    }
   ],
   "source": [
    "# This will convert 200 minutes to hours by diving by 60\n",
    "Min=200/60\n",
    "print(Min)"
   ]
  },
  {
   "cell_type": "markdown",
   "id": "540be587-5586-478d-b4bb-cd642902885d",
   "metadata": {},
   "source": [
    "## Author\n",
    "Arshad Rashid"
   ]
  },
  {
   "cell_type": "code",
   "execution_count": null,
   "id": "deda7fef-e79b-4ac4-849e-5a1a369654a4",
   "metadata": {},
   "outputs": [],
   "source": []
  }
 ],
 "metadata": {
  "kernelspec": {
   "display_name": "Python 3 (ipykernel)",
   "language": "python",
   "name": "python3"
  },
  "language_info": {
   "codemirror_mode": {
    "name": "ipython",
    "version": 3
   },
   "file_extension": ".py",
   "mimetype": "text/x-python",
   "name": "python",
   "nbconvert_exporter": "python",
   "pygments_lexer": "ipython3",
   "version": "3.11.9"
  }
 },
 "nbformat": 4,
 "nbformat_minor": 5
}
